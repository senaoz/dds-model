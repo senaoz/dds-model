{
 "cells": [
  {
   "cell_type": "code",
   "execution_count": 7,
   "id": "b05e1193-f185-4a76-9b00-8723252b979d",
   "metadata": {
    "ExecuteTime": {
     "end_time": "2023-12-16T12:34:04.069928Z",
     "start_time": "2023-12-16T12:34:04.007976Z"
    }
   },
   "outputs": [
    {
     "ename": "ModuleNotFoundError",
     "evalue": "No module named 'seaborn'",
     "output_type": "error",
     "traceback": [
      "\u001B[0;31m---------------------------------------------------------------------------\u001B[0m",
      "\u001B[0;31mModuleNotFoundError\u001B[0m                       Traceback (most recent call last)",
      "Cell \u001B[0;32mIn [7], line 5\u001B[0m\n\u001B[1;32m      3\u001B[0m \u001B[38;5;28;01mimport\u001B[39;00m \u001B[38;5;21;01mmatplotlib\u001B[39;00m\u001B[38;5;21;01m.\u001B[39;00m\u001B[38;5;21;01mpyplot\u001B[39;00m \u001B[38;5;28;01mas\u001B[39;00m \u001B[38;5;21;01mplt\u001B[39;00m\n\u001B[1;32m      4\u001B[0m \u001B[38;5;28;01mimport\u001B[39;00m \u001B[38;5;21;01mwarnings\u001B[39;00m\n\u001B[0;32m----> 5\u001B[0m \u001B[38;5;28;01mimport\u001B[39;00m \u001B[38;5;21;01mseaborn\u001B[39;00m \u001B[38;5;28;01mas\u001B[39;00m \u001B[38;5;21;01msns\u001B[39;00m\n\u001B[1;32m      6\u001B[0m warnings\u001B[38;5;241m.\u001B[39mfilterwarnings(\u001B[38;5;124m'\u001B[39m\u001B[38;5;124mignore\u001B[39m\u001B[38;5;124m'\u001B[39m)\n\u001B[1;32m      7\u001B[0m \u001B[38;5;28;01mfrom\u001B[39;00m \u001B[38;5;21;01msklearn\u001B[39;00m\u001B[38;5;21;01m.\u001B[39;00m\u001B[38;5;21;01mpreprocessing\u001B[39;00m \u001B[38;5;28;01mimport\u001B[39;00m PolynomialFeatures\n",
      "\u001B[0;31mModuleNotFoundError\u001B[0m: No module named 'seaborn'"
     ]
    }
   ],
   "source": [
    "import numpy as np\n",
    "import pandas as pd\n",
    "import matplotlib.pyplot as plt\n",
    "import warnings\n",
    "import seaborn as sns\n",
    "warnings.filterwarnings('ignore')\n",
    "from sklearn.preprocessing import PolynomialFeatures\n",
    "from sklearn.model_selection import train_test_split\n",
    "from sklearn.linear_model import LinearRegression\n",
    "from sklearn.metrics import mean_squared_error, r2_score\n",
    "\n",
    "data = pd.read_csv('dataSources/kc_house_data.csv')\n",
    "data['date'] = pd.to_datetime(data['date'].str.slice(0, 8), format='%Y%m%d')\n",
    "data['year'] = data['date'].dt.year\n",
    "data['month'] = data['date'].dt.month\n",
    "data['day'] = data['date'].dt.day\n",
    "data.drop(['id', 'date'], axis=1, inplace=True)\n",
    "\n",
    "X = data.drop('price', axis=1)\n",
    "y = data['price']"
   ]
  },
  {
   "cell_type": "markdown",
   "source": [],
   "metadata": {
    "collapsed": false
   },
   "id": "e56ddb2cf7d247d"
  },
  {
   "cell_type": "code",
   "execution_count": null,
   "id": "5a273d6b-8d5a-4bcd-9db6-f7180bb26459",
   "metadata": {
    "ExecuteTime": {
     "start_time": "2023-12-16T12:34:04.016818Z"
    }
   },
   "outputs": [],
   "source": [
    "def train_model():\n",
    "    poly = PolynomialFeatures(degree=2, include_bias=False)\n",
    "    X_poly = poly.fit_transform(X)\n",
    "    \n",
    "    X_train, X_test, y_train, y_test = train_test_split(X_poly, y, test_size=0.2, random_state=42)\n",
    "    \n",
    "    model = LinearRegression()\n",
    "    model.fit(X_train, y_train)\n",
    "    return model\n",
    "\n",
    "\n",
    "def predict(input_data):\n",
    "    input_data = np.array(input_data)\n",
    "    input_data = input_data.reshape(1, -1)\n",
    "    input_data = poly.transform(input_data)\n",
    "    \n",
    "    if len(input_data[0]) != len(X_train[0]):\n",
    "        return 'Wrong input data'\n",
    "    \n",
    "    if model.predict(input_data)[0] < 0:\n",
    "        return 0\n",
    "     \n",
    "    else: \n",
    "        return model.predict(input_data)[0]\n",
    "    "
   ]
  },
  {
   "cell_type": "code",
   "execution_count": null,
   "id": "86d65a81-2ffd-4428-a89b-305fcd94732a",
   "metadata": {
    "ExecuteTime": {
     "start_time": "2023-12-16T12:34:04.018837Z"
    }
   },
   "outputs": [],
   "source": [
    "input_data = [\n",
    "  3, \n",
    "  1, \n",
    "  1180, \n",
    "  5650, \n",
    "  1,\n",
    "  0, \n",
    "  0,\n",
    "  3, \n",
    "  7, \n",
    "  1180, \n",
    "  0, \n",
    "  1955, \n",
    "  0, \n",
    "  98178, \n",
    "  47.5112, \n",
    "  -122.257, \n",
    "  1340, \n",
    "  5650, \n",
    "  2014,\n",
    "  10, \n",
    "  13, \n",
    "];\n",
    "\n",
    "predict(input_data)"
   ]
  },
  {
   "cell_type": "code",
   "execution_count": null,
   "id": "24586815-6a8e-4e00-b71c-b321e2b8caff",
   "metadata": {
    "ExecuteTime": {
     "start_time": "2023-12-16T12:34:04.020538Z"
    }
   },
   "outputs": [],
   "source": [
    "y_pred = model.predict(X_test)\n",
    "\n",
    "mse = mean_squared_error(y_test, y_pred)\n",
    "r2 = r2_score(y_test, y_pred)"
   ]
  },
  {
   "cell_type": "code",
   "execution_count": null,
   "id": "d61a593f-75fb-4a7d-ac11-5096a729f246",
   "metadata": {
    "ExecuteTime": {
     "start_time": "2023-12-16T12:34:04.022334Z"
    }
   },
   "outputs": [],
   "source": [
    "mse, r2"
   ]
  },
  {
   "cell_type": "code",
   "execution_count": null,
   "outputs": [],
   "source": [
    "# make predictions for test data\n",
    "y_pred = model.predict(X_test)\n",
    "predictions = [round(value) for value in y_pred]"
   ],
   "metadata": {
    "collapsed": false,
    "ExecuteTime": {
     "start_time": "2023-12-16T12:34:04.023840Z"
    }
   },
   "id": "19a86e78189eddf4"
  },
  {
   "cell_type": "code",
   "execution_count": null,
   "outputs": [],
   "source": [
    "# evaluate predictions\n",
    "mse = mean_squared_error(y_test, predictions)\n",
    "r2 = r2_score(y_test, predictions)\n",
    "\n",
    "print(\"MSE: %.2f%%\" % (mse))"
   ],
   "metadata": {
    "collapsed": false,
    "ExecuteTime": {
     "start_time": "2023-12-16T12:34:04.025598Z"
    }
   },
   "id": "628ce25d4f08596c"
  },
  {
   "cell_type": "code",
   "execution_count": null,
   "outputs": [],
   "source": [
    "accuracy = model.score(X_test, y_test)"
   ],
   "metadata": {
    "collapsed": false,
    "ExecuteTime": {
     "start_time": "2023-12-16T12:34:04.027333Z"
    }
   },
   "id": "1e2f62ee75ab3402"
  },
  {
   "cell_type": "code",
   "execution_count": null,
   "outputs": [],
   "source": [
    "accuracy"
   ],
   "metadata": {
    "collapsed": false,
    "ExecuteTime": {
     "start_time": "2023-12-16T12:34:04.029046Z"
    }
   },
   "id": "483388ade83f2b08"
  },
  {
   "cell_type": "code",
   "execution_count": null,
   "outputs": [],
   "source": [
    "df = pd.read_csv('./kc_house_data.csv')\n",
    "df.dataframeName = 'kc_house_data'\n",
    "df"
   ],
   "metadata": {
    "collapsed": false,
    "ExecuteTime": {
     "start_time": "2023-12-16T12:34:04.030751Z"
    }
   },
   "id": "c3363b25c78f5932"
  },
  {
   "cell_type": "code",
   "execution_count": null,
   "outputs": [],
   "source": [
    "data"
   ],
   "metadata": {
    "collapsed": false,
    "ExecuteTime": {
     "start_time": "2023-12-16T12:34:04.032581Z"
    }
   },
   "id": "e883a9eac5b5bb5e"
  },
  {
   "cell_type": "code",
   "execution_count": null,
   "outputs": [],
   "source": [
    "data.info()"
   ],
   "metadata": {
    "collapsed": false,
    "ExecuteTime": {
     "start_time": "2023-12-16T12:34:04.034023Z"
    }
   },
   "id": "31d981f2255b838a"
  },
  {
   "cell_type": "code",
   "execution_count": null,
   "outputs": [],
   "source": [
    "import pandas as pd\n",
    "import seaborn as sns\n",
    "import matplotlib.pyplot as plt\n",
    "\n",
    "dfCorr = df.copy()\n",
    "dfCorr = dfCorr.drop(['id', 'date', 'zipcode'], axis=1)\n",
    "numerical_columns = dfCorr.select_dtypes(include=['float64', 'int64'])\n",
    "corr_matrix = numerical_columns.corr()\n",
    "\n",
    "f, ax = plt.subplots(figsize=(12, 9))\n",
    "cmap = sns.diverging_palette(220, 10, as_cmap=True)\n",
    "\n",
    "sns.heatmap(corr_matrix, cmap=cmap, vmax=1, vmin=-1, center=0,\n",
    "            square=True, linewidths=.5, cbar_kws={\"shrink\": .5})\n",
    "\n",
    "plt.show()"
   ],
   "metadata": {
    "collapsed": false,
    "ExecuteTime": {
     "start_time": "2023-12-16T12:34:04.035039Z"
    }
   },
   "id": "7f69f6e3e8edff82"
  },
  {
   "cell_type": "code",
   "execution_count": null,
   "outputs": [],
   "source": [
    "# make outlier analysis for df, show graphs\n",
    "\n",
    "dfOutlier = df.copy()\n",
    "dfOutlier = dfOutlier.drop(['id', 'date', 'zipcode'], axis=1)\n",
    "\n",
    "numerical_columns = dfOutlier.select_dtypes(include=['float64', 'int64'])\n",
    "numerical_columns = numerical_columns.drop(['price'], axis=1)\n",
    "\n",
    "for i in numerical_columns.columns:\n",
    "    sns.boxplot(x=dfOutlier[i])\n",
    "    plt.show()\n",
    "    \n",
    "\n"
   ],
   "metadata": {
    "collapsed": false,
    "ExecuteTime": {
     "start_time": "2023-12-16T12:34:04.035968Z"
    }
   },
   "id": "12e04513ee9bde53"
  },
  {
   "cell_type": "code",
   "execution_count": null,
   "outputs": [],
   "source": [
    "# make feature engineering, show graphs in a table format\n",
    "\n",
    "dfFeature = df.copy()\n",
    "dfFeature = dfFeature.drop(['id', 'date', 'zipcode'], axis=1)\n",
    "\n",
    "numerical_columns = dfFeature.select_dtypes(include=['float64', 'int64'])\n",
    "numerical_columns = numerical_columns.drop(['price'], axis=1)\n",
    "\n",
    "for i in numerical_columns.columns:\n",
    "    sns.distplot(dfFeature[i])\n",
    "    plt.show()\n",
    "    "
   ],
   "metadata": {
    "collapsed": false,
    "ExecuteTime": {
     "start_time": "2023-12-16T12:34:04.036874Z"
    }
   },
   "id": "5bf045ad3bf6f103"
  },
  {
   "cell_type": "code",
   "execution_count": null,
   "outputs": [],
   "source": [
    "# make analysis for the model, show graphs in a table format\n",
    "y_pred_train = model.predict(X_train)\n",
    "print(\"Quality Test {}\".format(mean_squared_error(y_train, y_pred_train)))\n",
    "y_pred = model.predict(X_test)\n",
    "print(\"Quality Control {}\".format(mean_squared_error(y_test, y_pred)))"
   ],
   "metadata": {
    "collapsed": false,
    "ExecuteTime": {
     "start_time": "2023-12-16T12:34:04.037804Z"
    }
   },
   "id": "ea915464d32ead40"
  },
  {
   "cell_type": "code",
   "execution_count": null,
   "outputs": [],
   "source": [
    "# make predictions for test data\n",
    "y_pred = model.predict(X_test)\n",
    "predictions = [round(value) for value in y_pred]\n",
    "\n",
    "# evaluate predictions\n",
    "mse = mean_squared_error(y_test, predictions)\n",
    "r2 = r2_score(y_test, predictions)\n",
    "\n",
    "print(\"MSE: %.2f%%\" % (mse))\n",
    "print(\"R2: %.2f%%\" % (r2))"
   ],
   "metadata": {
    "collapsed": false,
    "ExecuteTime": {
     "start_time": "2023-12-16T12:34:04.038698Z"
    }
   },
   "id": "211052c6aaad2d4e"
  },
  {
   "cell_type": "code",
   "execution_count": null,
   "outputs": [],
   "source": [
    "# Get absolute values of coefficients\n",
    "abs_coefficients = abs(model.coef_)\n",
    "\n",
    "# Create a dictionary mapping feature names to their absolute coefficients\n",
    "feature_importance = dict(zip(data.columns, abs_coefficients))\n",
    "\n",
    "# Sort the features by their importance\n",
    "sorted_feature_importance = dict(sorted(feature_importance.items(), key=lambda x: x[1], reverse=True))\n",
    "\n",
    "# Print or visualize the feature importance\n",
    "for feature, importance in sorted_feature_importance.items():\n",
    "    print(f\"{feature}: {importance}\")"
   ],
   "metadata": {
    "collapsed": false,
    "ExecuteTime": {
     "start_time": "2023-12-16T12:34:04.039777Z"
    }
   },
   "id": "a10f6cfee75cb9ae"
  },
  {
   "cell_type": "code",
   "execution_count": null,
   "outputs": [],
   "source": [
    "# Plot the feature importance\n",
    "plt.figure(figsize=(20, 10))\n",
    "plt.bar(sorted_feature_importance.keys(), sorted_feature_importance.values())\n",
    "plt.xticks(rotation=90)\n",
    "plt.show()"
   ],
   "metadata": {
    "collapsed": false,
    "ExecuteTime": {
     "start_time": "2023-12-16T12:34:04.040684Z"
    }
   },
   "id": "b28460557629faff"
  },
  {
   "cell_type": "code",
   "execution_count": null,
   "outputs": [],
   "source": [
    "# Select a single data point from the test set for prediction\n",
    "data_point = X_test[0]\n",
    "prediction = model.predict(data_point.reshape(1, -1))\n",
    "\n",
    "print(\"Prediction: {}\".format(prediction[0]))\n",
    "print(\"Actual Value: {}\".format(y_test.iloc[0]))\n",
    "print(\"Error: {}\".format(prediction[0] - y_test.iloc[0]))\n",
    "print(\"Mean Squared Error: {}\".format(mean_squared_error(y_test, model.predict(X_test))))\n",
    "print(\"R2 Score: {}\".format(r2_score(y_test, model.predict(X_test))))\n",
    "print(\"Accuracy: {}\".format(model.score(X_test, y_test)))"
   ],
   "metadata": {
    "collapsed": false,
    "ExecuteTime": {
     "start_time": "2023-12-16T12:34:04.041561Z"
    }
   },
   "id": "dc64fe6f33f95a1f"
  },
  {
   "cell_type": "code",
   "execution_count": null,
   "outputs": [],
   "source": [],
   "metadata": {
    "collapsed": false,
    "ExecuteTime": {
     "start_time": "2023-12-16T12:34:04.042433Z"
    }
   },
   "id": "416cc0dbe7a98733"
  }
 ],
 "metadata": {
  "kernelspec": {
   "display_name": "Python 3 (ipykernel)",
   "language": "python",
   "name": "python3"
  },
  "language_info": {
   "codemirror_mode": {
    "name": "ipython",
    "version": 3
   },
   "file_extension": ".py",
   "mimetype": "text/x-python",
   "name": "python",
   "nbconvert_exporter": "python",
   "pygments_lexer": "ipython3",
   "version": "3.9.13"
  }
 },
 "nbformat": 4,
 "nbformat_minor": 5
}
